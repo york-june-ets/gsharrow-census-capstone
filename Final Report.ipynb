{
 "cells": [
  {
   "cell_type": "markdown",
   "metadata": {
    "application/vnd.databricks.v1+cell": {
     "cellMetadata": {},
     "inputWidgets": {},
     "nuid": "f239e0f0-de8f-4fe5-8e9c-1e84b9f564ea",
     "showTitle": false,
     "tableResultSettingsMap": {},
     "title": ""
    }
   },
   "source": [
    "- ### Top Location: Miami-Dade County, Florida\n",
    "- Miami-Dade County, Florida emerged as the top-performing location based on the data and predictive models incorporating both population and AGI metrics. Between 2022 and 2027, it ranked first in AGI growth percentage and seventh in population growth rank, resulting in a composite score of 8—the lowest (and therefore best) among all evaluated counties. In addition to its strong growth trajectory, Miami-Dade also exceeded all benchmark thresholds established using Minnesota counties: a population greater than 250,000, AGI above $15 million, and AGI per capita over $40. While Miami-Dade county does include the large city of Miami the county is quite large and covers a large section of suburbs similar to the Minnesota counties.\n",
    "\n",
    "- ### Second Location: Montgomery County, Texas\n",
    "- According to the predictive models, Montgomery County, Texas ranked second in population percentage growth and seventh in AGI percentage growth between 2022 and 2027. These rankings yielded a composite score of 9, placing it second overall among all evaluated counties. Additionally, it satisfied all baseline criteria established using Minnesota counties—including a population exceeding 250,000, AGI above $15 million, and AGI per capita greater than $40. Montgomery County, Texas is located just north of the large city of Houston Texas putting it in a similar location as the Minnesota counties. \n",
    "\n",
    "- ### Third Location: St. Johns County, Florida\n",
    "- St. Johns County, Florida ranked ninth in population percentage growth and fourth in AGI percentage growth between 2022 and 2027, resulting in a composite score of 13 and placing it third overall among all counties. However, unlike the first and second place counties—whose composite scores were 8 and 9 respectively—this county shows a larger gap from second place. The jump from a composite score of 9 to 13 suggests it's not quite as comparable in terms of overall growth performance. Also similar to the Minnesota counties St. Johns county is just south of the large city of Jacksonville Florida.\n",
    "\n",
    "- ### Possible Risks and Uncertainties\n",
    "- The predictive models for population and AGI in 2027 were built using data from 2020 onward. This decision was driven by two key considerations:\n",
    "- Impact of COVID-19: Pre-2020 trends may no longer reflect current realities due to the significant disruptions caused by the pandemic. Using only post-COVID data reduces the risk of skewing predictions with outdated patterns that may not hold in today’s economic and demographic climate.\n",
    "- Data Reliability Post-Census: Since the U.S. Census is only conducted every 10 years (most recently in 2020), population figures for subsequent years are derived from annual estimates that factor in births, deaths, and migration. To maintain accuracy, data prior to 2020 was excluded to avoid compounding uncertainty from estimates built on earlier estimates.\n",
    "Given this approach, AGI data was available from 2020–2022 and population data from 2020–2024 — resulting in a limited historical window to train the models.\n",
    "- Another potential source of variability in the analysis lies in the equal weighting of population and AGI growth when calculating the composite score. Since there was no guidance on prioritizing one factor over the other, both were treated with equal importance throughout the modeling and ranking process. As a result, the rankings are neutral and do not reflect any specific preference. However, if a customer places greater emphasis on either AGI growth or population growth, the rankings could shift significantly based on that weighting — leading to different conclusions about the most desirable locations."
   ]
  },
  {
   "cell_type": "markdown",
   "metadata": {
    "application/vnd.databricks.v1+cell": {
     "cellMetadata": {},
     "inputWidgets": {},
     "nuid": "1578b033-389c-4650-af12-1eedccc44ba7",
     "showTitle": false,
     "tableResultSettingsMap": {},
     "title": ""
    }
   },
   "source": []
  }
 ],
 "metadata": {
  "application/vnd.databricks.v1+notebook": {
   "computePreferences": null,
   "dashboards": [],
   "environmentMetadata": {
    "base_environment": "",
    "environment_version": "2"
   },
   "inputWidgetPreferences": null,
   "language": "sql",
   "notebookMetadata": {
    "pythonIndentUnit": 4
   },
   "notebookName": "Final Report",
   "widgets": {}
  },
  "language_info": {
   "name": "sql"
  }
 },
 "nbformat": 4,
 "nbformat_minor": 0
}
