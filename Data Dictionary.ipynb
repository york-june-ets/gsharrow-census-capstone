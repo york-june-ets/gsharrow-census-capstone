{
 "cells": [
  {
   "cell_type": "markdown",
   "metadata": {
    "application/vnd.databricks.v1+cell": {
     "cellMetadata": {},
     "inputWidgets": {},
     "nuid": "a39afa79-a407-4189-9556-d96b3c59f60b",
     "showTitle": false,
     "tableResultSettingsMap": {},
     "title": ""
    }
   },
   "source": [
    "### Table: county_forecast_combined\n",
    "| Column Name             | Description                                                                 |\n",
    "|-------------------------|-----------------------------------------------------------------------------|\n",
    "| location                | Geographic identifier (e.g., county name or FIPS code)                      |\n",
    "| pop_2020                | Population in the year 2020                                       |\n",
    "| pop_2021                | Population in the year 2021                                       |\n",
    "| pop_2022                | Population in the year 2022                                       |\n",
    "| pop_2023                | Population in the year 2023                                       |\n",
    "| pop_2024                | Population in the year 2024                                       |\n",
    "| pop_2027_predicted      | Forecasted population for the year 2027                                     |\n",
    "| pop_change_raw          | Absolute change in population from 2020 to 2027                             |\n",
    "| pop_change_pct          | Percentage change in population from 2020 to 2027                           |\n",
    "| AGI_2020                | Adjusted Gross Income (AGI) in the year 2020                                |\n",
    "| AGI_2021                | Adjusted Gross Income (AGI) in the year 2021                                |\n",
    "| AGI_2022                | Adjusted Gross Income (AGI) in the year 2022                                |\n",
    "| AGI_2027_predicted      | Forecasted Adjusted Gross Income for the year 2027                          |\n",
    "| AGI_change_raw          | Absolute change in AGI from 2020 to 2027                                    |\n",
    "| AGI_change_pct          | Percentage change in AGI from 2020 to 2027                                  |\n",
    "| AGI_per_capita_2027     | Forecasted AGI per person in 2027 (AGI divided by population)               |\n"
   ]
  }
 ],
 "metadata": {
  "application/vnd.databricks.v1+notebook": {
   "computePreferences": null,
   "dashboards": [],
   "environmentMetadata": {
    "base_environment": "",
    "environment_version": "2"
   },
   "inputWidgetPreferences": null,
   "language": "python",
   "notebookMetadata": {
    "pythonIndentUnit": 4
   },
   "notebookName": "Data Dictionary",
   "widgets": {}
  },
  "language_info": {
   "name": "python"
  }
 },
 "nbformat": 4,
 "nbformat_minor": 0
}
