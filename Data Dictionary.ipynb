{
 "cells": [
  {
   "cell_type": "markdown",
   "metadata": {
    "application/vnd.databricks.v1+cell": {
     "cellMetadata": {},
     "inputWidgets": {},
     "nuid": "28878b3b-8b64-4ccf-9035-16d6897a4c29",
     "showTitle": false,
     "tableResultSettingsMap": {},
     "title": ""
    }
   },
   "source": []
  },
  {
   "cell_type": "markdown",
   "metadata": {
    "application/vnd.databricks.v1+cell": {
     "cellMetadata": {},
     "inputWidgets": {},
     "nuid": "e67b3ed8-d85f-47f4-8e7b-27e97916ffdc",
     "showTitle": false,
     "tableResultSettingsMap": {},
     "title": ""
    }
   },
   "source": [
    "- ### county_population_agi Table\n",
    "\n",
    "| Column Name                  | Description                                                                 | Data Type | Notes                                                                 |\n",
    "|-----------------------------|------------------------------------------------------------------------------|-----------|-----------------------------------------------------------------------|\n",
    "| `STNAME`                    | State name                                                                  | String    | Full name of the U.S. state                                           |\n",
    "| `CTYNAME`                   | County name                                                                 | String    | Full name of the county                                               |\n",
    "| `POPESTIMATE2020`           | Population estimate for 2020                                                | Integer   | Actual value sourced from official records                            |\n",
    "| `POPESTIMATE2021`           | Population estimate for 2021                                                | Integer   | Actual value                                                          |\n",
    "| `POPESTIMATE2022`           | Population estimate for 2022                                                | Integer   | Actual value                                                          |\n",
    "| `POPESTIMATE2023`           | Population estimate for 2023                                                | Integer   | Actual value                                                          |\n",
    "| `POPESTIMATE2024`           | Population estimate for 2024                                                | Integer   | Actual value                                                          |\n",
    "| `PREDICTEDPOP2027`          | Forecasted population for 2027                                              | BigInt    | Model-generated prediction                                            |\n",
    "| `Pop_Diff_2022_to_2027`     | Absolute change in population (2022 to 2027)                                | BigInt    | `PREDICTEDPOP2027` - `POPESTIMATE2022`                               |\n",
    "| `Pop_PercChange_2022_to_2027` | Percentage change in population (2022 to 2027)                           | Double    | (`Pop_Diff` ÷ `POPESTIMATE2022`) × 100                               |\n",
    "| `AGI2020`                   | Adjusted Gross Income for 2020                                              | Double    | County-level actual income                                           |\n",
    "| `AGI2021`                   | Adjusted Gross Income for 2021                                              | Double    | Actual value                                                          |\n",
    "| `AGI2022`                   | Adjusted Gross Income for 2022                                              | Double    | Actual value                                                          |\n",
    "| `Predicted_AGI2027`         | Forecasted AGI for 2027                                                     | BigInt    | Modeled estimate                                                      |\n",
    "| `AGI_Diff_2022_to_2027`     | Absolute change in AGI (2022 to 2027)                                       | Double    | `Predicted_AGI2027` - `AGI2022`                                      |\n",
    "| `AGI_PercChange_2022_to_2027` | Percentage change in AGI (2022 to 2027)                                 | Double    | (`AGI_Diff` ÷ `AGI2022`) × 100                                       |\n",
    "| `AGI_per_capita_2027`       | Projected AGI per person in 2027                                            | Double    | `Predicted_AGI2027` ÷ `PREDICTEDPOP2027`                             |\n",
    "\n",
    "---\n"
   ]
  },
  {
   "cell_type": "markdown",
   "metadata": {
    "application/vnd.databricks.v1+cell": {
     "cellMetadata": {},
     "inputWidgets": {},
     "nuid": "a39afa79-a407-4189-9556-d96b3c59f60b",
     "showTitle": false,
     "tableResultSettingsMap": {},
     "title": ""
    }
   },
   "source": [
    "- ### mn_county_population_agi Table\n",
    "\n",
    "| Column Name                | Description                                                              | Data Type | Notes                                                             |\n",
    "|---------------------------|---------------------------------------------------------------------------|-----------|-------------------------------------------------------------------|\n",
    "| `STNAME`                  | State name                                                                | String    | Full name of the U.S. state                                       |\n",
    "| `CTYNAME`                 | County name                                                               | String    | Full name of the county                                           |\n",
    "| `POPESTIMATE2020`         | Population estimate for 2020                                              | Integer   | Actual value                                                      |\n",
    "| `POPESTIMATE2021`         | Population estimate for 2021                                              | Integer   | Actual value                                                      |\n",
    "| `POPESTIMATE2022`         | Population estimate for 2022                                              | Integer   | Actual value                                                      |\n",
    "| `POPESTIMATE2023`         | Population estimate for 2023                                              | Integer   | Actual value                                                      |\n",
    "| `POPESTIMATE2024`         | Population estimate for 2024                                              | Integer   | Actual value                                                      |\n",
    "| `AGI2020`                 | Adjusted Gross Income for 2020                                            | Double    | Actual income reported for the county                            |\n",
    "| `AGI2021`                 | Adjusted Gross Income for 2021                                            | Double    | Actual value                                                      |\n",
    "| `AGI2022`                 | Adjusted Gross Income for 2022                                            | Double    | Actual value                                                      |\n",
    "| `MN_AGI_per_capita_2022`  | AGI per capita for 2022 in Minnesota counties                             | Double    | Calculated as AGI ÷ population for year 2022                     |\n",
    "\n",
    "---\n"
   ]
  }
 ],
 "metadata": {
  "application/vnd.databricks.v1+notebook": {
   "computePreferences": null,
   "dashboards": [],
   "environmentMetadata": {
    "base_environment": "",
    "environment_version": "2"
   },
   "inputWidgetPreferences": null,
   "language": "python",
   "notebookMetadata": {
    "pythonIndentUnit": 4
   },
   "notebookName": "Data Dictionary",
   "widgets": {}
  },
  "language_info": {
   "name": "python"
  }
 },
 "nbformat": 4,
 "nbformat_minor": 0
}
