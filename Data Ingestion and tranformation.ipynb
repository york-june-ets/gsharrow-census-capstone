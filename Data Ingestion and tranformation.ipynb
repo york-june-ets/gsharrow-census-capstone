{
 "cells": [
  {
   "cell_type": "code",
   "execution_count": 0,
   "metadata": {
    "application/vnd.databricks.v1+cell": {
     "cellMetadata": {
      "byteLimit": 2048000,
      "rowLimit": 10000
     },
     "collapsed": true,
     "inputWidgets": {},
     "nuid": "986757a5-b0c9-4d6b-9486-15b4370a6208",
     "showTitle": false,
     "tableResultSettingsMap": {},
     "title": ""
    }
   },
   "outputs": [],
   "source": [
    "df_agi_raw_2020 = spark.read.csv(\n",
    "    \"/Volumes/ets_thriventcohort/default/census/20incyallnoagi.csv\",\n",
    "    header=True,       \n",
    "    inferSchema=True   \n",
    ")\n",
    "display(df_agi_raw_2020)"
   ]
  },
  {
   "cell_type": "code",
   "execution_count": 0,
   "metadata": {
    "application/vnd.databricks.v1+cell": {
     "cellMetadata": {
      "byteLimit": 2048000,
      "rowLimit": 10000
     },
     "collapsed": true,
     "inputWidgets": {},
     "nuid": "b2a9194e-5ff7-4917-a7ee-f5639a1ffcee",
     "showTitle": false,
     "tableResultSettingsMap": {
      "0": {
       "dataGridStateBlob": "{\"version\":1,\"tableState\":{\"columnPinning\":{\"left\":[\"#row_number#\"],\"right\":[]},\"columnSizing\":{},\"columnVisibility\":{}},\"settings\":{\"columns\":{}},\"syncTimestamp\":1753737384524}",
       "filterBlob": null,
       "queryPlanFiltersBlob": null,
       "tableResultIndex": 0
      }
     },
     "title": ""
    }
   },
   "outputs": [],
   "source": [
    "selected_columns = [\"STATE\", \"COUNTYNAME\",\"A00100\"]\n",
    "filtered_df_2020 = df_agi_raw_2020.select(*selected_columns)\n",
    "renamed_df_2020 = filtered_df_2020.withColumnRenamed(\"A00100\", \"AGI2020\")\n",
    "display(renamed_df_2020)"
   ]
  },
  {
   "cell_type": "code",
   "execution_count": 0,
   "metadata": {
    "application/vnd.databricks.v1+cell": {
     "cellMetadata": {
      "byteLimit": 2048000,
      "rowLimit": 10000
     },
     "collapsed": true,
     "inputWidgets": {},
     "nuid": "6cb07228-2d9e-418b-97b8-7c5ca25d29e8",
     "showTitle": false,
     "tableResultSettingsMap": {},
     "title": ""
    }
   },
   "outputs": [],
   "source": [
    "df_agi_raw_2021 = spark.read.csv(\n",
    "    \"/Volumes/ets_thriventcohort/default/census/21incyallnoagi.csv\",\n",
    "    header=True,       \n",
    "    inferSchema=True   \n",
    ")\n",
    "display(df_agi_raw_2021)"
   ]
  },
  {
   "cell_type": "code",
   "execution_count": 0,
   "metadata": {
    "application/vnd.databricks.v1+cell": {
     "cellMetadata": {
      "byteLimit": 2048000,
      "rowLimit": 10000
     },
     "collapsed": true,
     "inputWidgets": {},
     "nuid": "168ede98-d7a0-4574-a1fe-f3d2c41acb1b",
     "showTitle": false,
     "tableResultSettingsMap": {
      "0": {
       "dataGridStateBlob": "{\"version\":1,\"tableState\":{\"columnPinning\":{\"left\":[\"#row_number#\"],\"right\":[]},\"columnSizing\":{},\"columnVisibility\":{}},\"settings\":{\"columns\":{}},\"syncTimestamp\":1753737428132}",
       "filterBlob": null,
       "queryPlanFiltersBlob": null,
       "tableResultIndex": 0
      }
     },
     "title": ""
    }
   },
   "outputs": [],
   "source": [
    "filtered_df_2021 = df_agi_raw_2021.select(*selected_columns)\n",
    "renamed_df_2021 = filtered_df_2021.withColumnRenamed(\"A00100\", \"AGI2021\")\n",
    "display(renamed_df_2021)"
   ]
  },
  {
   "cell_type": "code",
   "execution_count": 0,
   "metadata": {
    "application/vnd.databricks.v1+cell": {
     "cellMetadata": {
      "byteLimit": 2048000,
      "rowLimit": 10000
     },
     "collapsed": true,
     "inputWidgets": {},
     "nuid": "f20f27d4-ff1e-4d94-b1a2-cca3adcd1068",
     "showTitle": false,
     "tableResultSettingsMap": {
      "0": {
       "dataGridStateBlob": "{\"version\":1,\"tableState\":{\"columnPinning\":{\"left\":[\"#row_number#\"],\"right\":[]},\"columnSizing\":{},\"columnVisibility\":{}},\"settings\":{\"columns\":{}},\"syncTimestamp\":1753729247520}",
       "filterBlob": null,
       "queryPlanFiltersBlob": null,
       "tableResultIndex": 0
      }
     },
     "title": ""
    }
   },
   "outputs": [],
   "source": [
    "df_agi_raw_2022 = spark.read.csv(\n",
    "    \"/Volumes/ets_thriventcohort/default/census/22incyallnoagi.csv\",\n",
    "    header=True,       \n",
    "    inferSchema=True   \n",
    ")\n",
    "display(df_agi_raw_2022)"
   ]
  },
  {
   "cell_type": "code",
   "execution_count": 0,
   "metadata": {
    "application/vnd.databricks.v1+cell": {
     "cellMetadata": {
      "byteLimit": 2048000,
      "rowLimit": 10000
     },
     "collapsed": true,
     "inputWidgets": {},
     "nuid": "e0749d18-f863-4ee1-bd1e-5f7e30cbf076",
     "showTitle": false,
     "tableResultSettingsMap": {
      "0": {
       "dataGridStateBlob": "{\"version\":1,\"tableState\":{\"columnPinning\":{\"left\":[\"#row_number#\"],\"right\":[]},\"columnSizing\":{},\"columnVisibility\":{}},\"settings\":{\"columns\":{}},\"syncTimestamp\":1753737451279}",
       "filterBlob": null,
       "queryPlanFiltersBlob": null,
       "tableResultIndex": 0
      }
     },
     "title": ""
    }
   },
   "outputs": [],
   "source": [
    "filtered_df_2022 = df_agi_raw_2022.select(*selected_columns)\n",
    "renamed_df_2022 = filtered_df_2022.withColumnRenamed(\"A00100\", \"AGI2022\")\n",
    "display(renamed_df_2022)"
   ]
  },
  {
   "cell_type": "code",
   "execution_count": 0,
   "metadata": {
    "application/vnd.databricks.v1+cell": {
     "cellMetadata": {
      "byteLimit": 2048000,
      "rowLimit": 10000
     },
     "collapsed": true,
     "inputWidgets": {},
     "nuid": "29bdbe8f-8a54-4f17-a768-8fb9e0cd58fd",
     "showTitle": false,
     "tableResultSettingsMap": {
      "0": {
       "dataGridStateBlob": "{\"version\":1,\"tableState\":{\"columnPinning\":{\"left\":[\"#row_number#\"],\"right\":[]},\"columnSizing\":{},\"columnVisibility\":{}},\"settings\":{\"columns\":{}},\"syncTimestamp\":1753739514928}",
       "filterBlob": null,
       "queryPlanFiltersBlob": null,
       "tableResultIndex": 0
      }
     },
     "title": ""
    }
   },
   "outputs": [],
   "source": [
    "join_keys = [\"STATE\", \"COUNTYNAME\"]\n",
    "\n",
    "dftemp = renamed_df_2020.join(renamed_df_2021, on=join_keys, how=\"inner\")\n",
    "\n",
    "\n",
    "merged_df = dftemp.join(renamed_df_2022, on=join_keys, how=\"inner\")\n",
    "display(merged_df)\n"
   ]
  },
  {
   "cell_type": "code",
   "execution_count": 0,
   "metadata": {
    "application/vnd.databricks.v1+cell": {
     "cellMetadata": {
      "byteLimit": 2048000,
      "rowLimit": 10000
     },
     "collapsed": true,
     "inputWidgets": {},
     "nuid": "19661030-f968-41de-9909-aa17e13c4312",
     "showTitle": false,
     "tableResultSettingsMap": {
      "0": {
       "dataGridStateBlob": "{\"version\":1,\"tableState\":{\"columnPinning\":{\"left\":[\"#row_number#\"],\"right\":[]},\"columnSizing\":{},\"columnVisibility\":{}},\"settings\":{\"columns\":{}},\"syncTimestamp\":1753739593859}",
       "filterBlob": null,
       "queryPlanFiltersBlob": null,
       "tableResultIndex": 0
      }
     },
     "title": ""
    }
   },
   "outputs": [],
   "source": [
    "from pyspark.sql.functions import col\n",
    "\n",
    "states = [\n",
    "    \"Alabama\", \"Alaska\", \"Arizona\", \"Arkansas\", \"California\",\n",
    "    \"Colorado\", \"Connecticut\", \"Delaware\", \"Florida\", \"Georgia\",\n",
    "    \"Hawaii\", \"Idaho\", \"Illinois\", \"Indiana\", \"Iowa\",\n",
    "    \"Kansas\", \"Kentucky\", \"Louisiana\", \"Maine\", \"Maryland\",\n",
    "    \"Massachusetts\", \"Michigan\", \"Minnesota\", \"Mississippi\", \"Missouri\",\n",
    "    \"Montana\", \"Nebraska\", \"Nevada\", \"New Hampshire\", \"New Jersey\",\n",
    "    \"New Mexico\", \"New York\", \"North Carolina\", \"North Dakota\", \"Ohio\",\n",
    "    \"Oklahoma\", \"Oregon\", \"Pennsylvania\", \"Rhode Island\", \"South Carolina\",\n",
    "    \"South Dakota\", \"Tennessee\", \"Texas\", \"Utah\", \"Vermont\",\n",
    "    \"Virginia\", \"Washington\", \"West Virginia\", \"Wisconsin\", \"Wyoming\"\n",
    "]\n",
    "\n",
    "stateless_df = merged_df.filter(~col(\"COUNTYNAME\").isin(states))\n",
    "display(stateless_df)\n"
   ]
  },
  {
   "cell_type": "code",
   "execution_count": 0,
   "metadata": {
    "application/vnd.databricks.v1+cell": {
     "cellMetadata": {
      "byteLimit": 2048000,
      "rowLimit": 10000
     },
     "inputWidgets": {},
     "nuid": "2fc91ea6-dd8e-4d64-bbfd-b9dca5f3ea0f",
     "showTitle": false,
     "tableResultSettingsMap": {
      "0": {
       "dataGridStateBlob": "{\"version\":1,\"tableState\":{\"columnPinning\":{\"left\":[\"#row_number#\"],\"right\":[]},\"columnSizing\":{},\"columnVisibility\":{}},\"settings\":{\"columns\":{}},\"syncTimestamp\":1753740132435}",
       "filterBlob": null,
       "queryPlanFiltersBlob": null,
       "tableResultIndex": 0
      }
     },
     "title": ""
    }
   },
   "outputs": [],
   "source": [
    "state_mapping = {\n",
    "    \"AL\": \"Alabama\", \"AK\": \"Alaska\", \"AZ\": \"Arizona\", \"AR\": \"Arkansas\", \"CA\": \"California\",\n",
    "    \"CO\": \"Colorado\", \"CT\": \"Connecticut\", \"DE\": \"Delaware\", \"FL\": \"Florida\", \"GA\": \"Georgia\",\n",
    "    \"HI\": \"Hawaii\", \"ID\": \"Idaho\", \"IL\": \"Illinois\", \"IN\": \"Indiana\", \"IA\": \"Iowa\",\n",
    "    \"KS\": \"Kansas\", \"KY\": \"Kentucky\", \"LA\": \"Louisiana\", \"ME\": \"Maine\", \"MD\": \"Maryland\",\n",
    "    \"MA\": \"Massachusetts\", \"MI\": \"Michigan\", \"MN\": \"Minnesota\", \"MS\": \"Mississippi\", \"MO\": \"Missouri\",\n",
    "    \"MT\": \"Montana\", \"NE\": \"Nebraska\", \"NV\": \"Nevada\", \"NH\": \"New Hampshire\", \"NJ\": \"New Jersey\",\n",
    "    \"NM\": \"New Mexico\", \"NY\": \"New York\", \"NC\": \"North Carolina\", \"ND\": \"North Dakota\", \"OH\": \"Ohio\",\n",
    "    \"OK\": \"Oklahoma\", \"OR\": \"Oregon\", \"PA\": \"Pennsylvania\", \"RI\": \"Rhode Island\", \"SC\": \"South Carolina\",\n",
    "    \"SD\": \"South Dakota\", \"TN\": \"Tennessee\", \"TX\": \"Texas\", \"UT\": \"Utah\", \"VT\": \"Vermont\",\n",
    "    \"VA\": \"Virginia\", \"WA\": \"Washington\", \"WV\": \"West Virginia\", \"WI\": \"Wisconsin\", \"WY\": \"Wyoming\"\n",
    "}\n",
    "\n",
    "from pyspark.sql.functions import create_map, lit, col\n",
    "from itertools import chain\n",
    "\n",
    "# Flatten the dictionary into key-value pairs for create_map\n",
    "mapping_expr = create_map([lit(x) for x in chain(*state_mapping.items())])\n",
    "\n",
    "# Apply the mapping\n",
    "df_with_full_names = stateless_df.withColumn(\"FullStateName\", mapping_expr[col(\"STATE\")])\n",
    "\n",
    "df_final = df_with_full_names.drop(\"State\")\n",
    "\n",
    "display(df_final)\n"
   ]
  },
  {
   "cell_type": "code",
   "execution_count": 0,
   "metadata": {
    "application/vnd.databricks.v1+cell": {
     "cellMetadata": {
      "byteLimit": 2048000,
      "rowLimit": 10000
     },
     "collapsed": true,
     "inputWidgets": {},
     "nuid": "b255add0-414a-4882-a3aa-6fd2ec5bf06c",
     "showTitle": false,
     "tableResultSettingsMap": {},
     "title": ""
    }
   },
   "outputs": [],
   "source": [
    "df_final = df_final.filter(df_final[\"FullStateName\"] != \"Minnesota\")\n",
    "display(df_final)"
   ]
  },
  {
   "cell_type": "code",
   "execution_count": 0,
   "metadata": {
    "application/vnd.databricks.v1+cell": {
     "cellMetadata": {
      "byteLimit": 2048000,
      "rowLimit": 10000
     },
     "collapsed": true,
     "inputWidgets": {},
     "nuid": "ed6afbff-739f-49aa-b66a-e21d40bdbe7b",
     "showTitle": false,
     "tableResultSettingsMap": {
      "0": {
       "dataGridStateBlob": "{\"version\":1,\"tableState\":{\"columnPinning\":{\"left\":[\"#row_number#\"],\"right\":[]},\"columnSizing\":{},\"columnVisibility\":{}},\"settings\":{\"columns\":{}},\"syncTimestamp\":1753986681566}",
       "filterBlob": null,
       "queryPlanFiltersBlob": null,
       "tableResultIndex": 0
      }
     },
     "title": ""
    }
   },
   "outputs": [],
   "source": [
    "mn_agi = stateless_df.filter(stateless_df[\"STATE\"] == \"MN\")\n",
    "display(mn_agi)"
   ]
  },
  {
   "cell_type": "code",
   "execution_count": 0,
   "metadata": {
    "application/vnd.databricks.v1+cell": {
     "cellMetadata": {
      "byteLimit": 2048000,
      "rowLimit": 10000
     },
     "collapsed": true,
     "inputWidgets": {},
     "nuid": "7895a69a-b5f7-4a50-816d-07698d26f5bc",
     "showTitle": false,
     "tableResultSettingsMap": {},
     "title": ""
    }
   },
   "outputs": [],
   "source": [
    "mn_agi = mn_agi.withColumn(\"FullStateName\", mapping_expr[col(\"STATE\")])\n",
    "\n",
    "mn_agi = mn_agi.drop(\"State\")\n",
    "\n",
    "display(mn_agi)"
   ]
  },
  {
   "cell_type": "code",
   "execution_count": 0,
   "metadata": {
    "application/vnd.databricks.v1+cell": {
     "cellMetadata": {
      "byteLimit": 2048000,
      "rowLimit": 10000
     },
     "collapsed": true,
     "inputWidgets": {},
     "nuid": "24266ef8-a318-46b1-93ca-517eb54ea648",
     "showTitle": false,
     "tableResultSettingsMap": {},
     "title": ""
    }
   },
   "outputs": [],
   "source": [
    "mn_agi = mn_agi.withColumnRenamed(\"COUNTYNAME\", \"CTYNAME\") \\\n",
    "                      .withColumnRenamed(\"FullStateName\", \"STNAME\")\n",
    "display(mn_agi)"
   ]
  },
  {
   "cell_type": "code",
   "execution_count": 0,
   "metadata": {
    "application/vnd.databricks.v1+cell": {
     "cellMetadata": {
      "byteLimit": 2048000,
      "rowLimit": 10000
     },
     "inputWidgets": {},
     "nuid": "b8c03f52-0b27-48c5-82e4-af73404f9e36",
     "showTitle": false,
     "tableResultSettingsMap": {},
     "title": ""
    }
   },
   "outputs": [],
   "source": [
    "from pyspark.sql.functions import col, array, struct, lit\n",
    "from pyspark.ml.feature import VectorAssembler\n",
    "from pyspark.ml.regression import LinearRegression\n",
    "\n",
    "\n",
    "# Reshape to long format (year-value pairs per row)\n",
    "from pyspark.sql.functions import expr\n",
    "long_df = df_final.selectExpr(\n",
    "    \"COUNTYNAME\", \"FullStateName\",\n",
    "    \"stack(3, '2020', AGI2020, '2021', AGI2021, '2022', AGI2022) as (Year, AGI)\"\n",
    ").withColumn(\"Year\", col(\"Year\").cast(\"int\"))\n",
    "\n",
    "# Assemble features\n",
    "assembler = VectorAssembler(inputCols=[\"Year\"], outputCol=\"features\")\n",
    "assembled_df = assembler.transform(long_df)\n",
    "\n",
    "# Train model for each county\n",
    "\n",
    "from pyspark.sql.functions import pandas_udf\n",
    "from pyspark.sql.types import StructType, StructField, StringType, DoubleType\n",
    "from pyspark.sql.functions import PandasUDFType\n",
    "from pyspark.ml.regression import LinearRegression\n",
    "\n",
    "schema = StructType([\n",
    "    StructField(\"COUNTYNAME\", StringType()),\n",
    "    StructField(\"FullStateName\", StringType()),\n",
    "    StructField(\"Predicted_AGI2027\", DoubleType())\n",
    "])\n",
    "\n",
    "@pandas_udf(schema, functionType=PandasUDFType.GROUPED_MAP)\n",
    "def forecast_agi(pdf):\n",
    "    from sklearn.linear_model import LinearRegression\n",
    "    import numpy as np\n",
    "    import pandas as pd\n",
    "\n",
    "    name = pdf[\"COUNTYNAME\"].iloc[0]\n",
    "    state = pdf[\"FullStateName\"].iloc[0]\n",
    "    \n",
    "    X = pdf[\"Year\"].values.reshape(-1,1)\n",
    "    y = pdf[\"AGI\"].values\n",
    "    \n",
    "    if len(set(y)) > 1:\n",
    "        model = LinearRegression().fit(X, y)\n",
    "        pred = float(model.predict([[2027]]))\n",
    "    else:\n",
    "        pred = float(y.mean())\n",
    "\n",
    "    return pd.DataFrame([[name, state, pred]])\n",
    "\n",
    "# Group and apply forecast\n",
    "forecast_df = assembled_df.groupBy(\"COUNTYNAME\", \"FullStateName\").apply(forecast_agi)\n",
    "\n",
    "# Join with original for comparison\n",
    "result_df = df_final.join(forecast_df, on=[\"COUNTYNAME\", \"FullStateName\"], how=\"left\")\n",
    "\n",
    "display(result_df)\n"
   ]
  },
  {
   "cell_type": "code",
   "execution_count": 0,
   "metadata": {
    "application/vnd.databricks.v1+cell": {
     "cellMetadata": {
      "byteLimit": 2048000,
      "rowLimit": 10000
     },
     "collapsed": true,
     "inputWidgets": {},
     "nuid": "07786a6b-a3b1-4fe5-8e50-3dff4da4ad4a",
     "showTitle": false,
     "tableResultSettingsMap": {},
     "title": ""
    }
   },
   "outputs": [],
   "source": [
    "from pyspark.sql.functions import floor\n",
    "\n",
    "truncated_df = result_df.withColumn(\"Predicted_AGI2027\", floor(\"Predicted_AGI2027\")) \n",
    "display(truncated_df)"
   ]
  },
  {
   "cell_type": "code",
   "execution_count": 0,
   "metadata": {
    "application/vnd.databricks.v1+cell": {
     "cellMetadata": {
      "byteLimit": 2048000,
      "rowLimit": 10000
     },
     "collapsed": true,
     "inputWidgets": {},
     "nuid": "5fe223f2-7709-4f8d-ab36-a1d60d185d8d",
     "showTitle": false,
     "tableResultSettingsMap": {
      "0": {
       "dataGridStateBlob": "{\"version\":1,\"tableState\":{\"columnPinning\":{\"left\":[\"#row_number#\"],\"right\":[]},\"columnSizing\":{},\"columnVisibility\":{}},\"settings\":{\"columns\":{}},\"syncTimestamp\":1753821577710}",
       "filterBlob": null,
       "queryPlanFiltersBlob": null,
       "tableResultIndex": 0
      }
     },
     "title": ""
    }
   },
   "outputs": [],
   "source": [
    "from pyspark.sql.functions import round, col\n",
    "\n",
    "truncated_df = truncated_df.withColumn(\n",
    "    \"AGI_Diff_2022_to_2027\",\n",
    "    round(col(\"Predicted_AGI2027\") - col(\"AGI2022\"), 2)\n",
    ")\n",
    "\n",
    "truncated_df = truncated_df.withColumn(\n",
    "    \"AGI_PercChange_2022_to_2027\",\n",
    "    round((col(\"Predicted_AGI2027\") - col(\"AGI2022\")) / col(\"AGI2022\") * 100, 2)\n",
    ")\n",
    "display(truncated_df)\n"
   ]
  },
  {
   "cell_type": "code",
   "execution_count": 0,
   "metadata": {
    "application/vnd.databricks.v1+cell": {
     "cellMetadata": {
      "byteLimit": 2048000,
      "rowLimit": 10000
     },
     "collapsed": true,
     "inputWidgets": {},
     "nuid": "3685ab37-f110-4ad6-a76e-b44674646331",
     "showTitle": false,
     "tableResultSettingsMap": {},
     "title": ""
    }
   },
   "outputs": [],
   "source": [
    "renamed_df = truncated_df.withColumnRenamed(\"COUNTYNAME\", \"CTYNAME\") \\\n",
    "                      .withColumnRenamed(\"FullStateName\", \"STNAME\")\n",
    "display(renamed_df)\n"
   ]
  },
  {
   "cell_type": "code",
   "execution_count": 0,
   "metadata": {
    "application/vnd.databricks.v1+cell": {
     "cellMetadata": {
      "byteLimit": 2048000,
      "rowLimit": 10000
     },
     "collapsed": true,
     "inputWidgets": {},
     "nuid": "0e40d55d-7a40-4b5d-b4ee-110f2b288e73",
     "showTitle": false,
     "tableResultSettingsMap": {},
     "title": ""
    }
   },
   "outputs": [],
   "source": [
    "df_pop_20_24 = spark.read.csv(\n",
    "    \"/Volumes/ets_thriventcohort/default/census/co-est2024-alldata.csv\",\n",
    "    header=True,       \n",
    "    inferSchema=True   \n",
    ")\n",
    "display(df_pop_20_24)"
   ]
  },
  {
   "cell_type": "code",
   "execution_count": 0,
   "metadata": {
    "application/vnd.databricks.v1+cell": {
     "cellMetadata": {
      "byteLimit": 2048000,
      "rowLimit": 10000
     },
     "collapsed": true,
     "inputWidgets": {},
     "nuid": "860ab3f4-bc99-4570-8fa7-3c94195f9794",
     "showTitle": false,
     "tableResultSettingsMap": {
      "0": {
       "dataGridStateBlob": "{\"version\":1,\"tableState\":{\"columnPinning\":{\"left\":[\"#row_number#\"],\"right\":[]},\"columnSizing\":{},\"columnVisibility\":{}},\"settings\":{\"columns\":{}},\"syncTimestamp\":1753806504895}",
       "filterBlob": null,
       "queryPlanFiltersBlob": null,
       "tableResultIndex": 0
      }
     },
     "title": ""
    }
   },
   "outputs": [],
   "source": [
    "selected_columns = [\"STNAME\", \"CTYNAME\",\"ESTIMATESBASE2020\",\"POPESTIMATE2020\",\"POPESTIMATE2021\",\"POPESTIMATE2022\", \"POPESTIMATE2023\",\"POPESTIMATE2024\"]\n",
    "filtered_df_pop = df_pop_20_24.select(*selected_columns)\n",
    "display(filtered_df_pop)"
   ]
  },
  {
   "cell_type": "code",
   "execution_count": 0,
   "metadata": {
    "application/vnd.databricks.v1+cell": {
     "cellMetadata": {
      "byteLimit": 2048000,
      "rowLimit": 10000
     },
     "collapsed": true,
     "inputWidgets": {},
     "nuid": "83045f6c-cfdb-4a58-a5a6-802f3aef15be",
     "showTitle": false,
     "tableResultSettingsMap": {
      "0": {
       "dataGridStateBlob": "{\"version\":1,\"tableState\":{\"columnPinning\":{\"left\":[\"#row_number#\"],\"right\":[]},\"columnSizing\":{},\"columnVisibility\":{}},\"settings\":{\"columns\":{}},\"syncTimestamp\":1753806515244}",
       "filterBlob": null,
       "queryPlanFiltersBlob": null,
       "tableResultIndex": 0
      }
     },
     "title": ""
    }
   },
   "outputs": [],
   "source": [
    "stateless_df_pop = filtered_df_pop.filter(~col(\"CTYNAME\").isin(states))\n",
    "display(stateless_df_pop)"
   ]
  },
  {
   "cell_type": "code",
   "execution_count": 0,
   "metadata": {
    "application/vnd.databricks.v1+cell": {
     "cellMetadata": {
      "byteLimit": 2048000,
      "rowLimit": 10000
     },
     "collapsed": true,
     "inputWidgets": {},
     "nuid": "94199fed-5e01-4b04-a310-a8dba02122fa",
     "showTitle": false,
     "tableResultSettingsMap": {
      "0": {
       "dataGridStateBlob": "{\"version\":1,\"tableState\":{\"columnPinning\":{\"left\":[\"#row_number#\"],\"right\":[]},\"columnSizing\":{},\"columnVisibility\":{}},\"settings\":{\"columns\":{}},\"syncTimestamp\":1753986042567}",
       "filterBlob": null,
       "queryPlanFiltersBlob": null,
       "tableResultIndex": 0
      }
     },
     "title": ""
    }
   },
   "outputs": [],
   "source": [
    "mn_pop = stateless_df_pop.filter(stateless_df_pop[\"STNAME\"] == \"Minnesota\")\n",
    "mn_pop = mn_pop.orderBy(col(\"POPESTIMATE2024\").desc())\n",
    "display(mn_pop)"
   ]
  },
  {
   "cell_type": "code",
   "execution_count": 0,
   "metadata": {
    "application/vnd.databricks.v1+cell": {
     "cellMetadata": {
      "byteLimit": 2048000,
      "rowLimit": 10000
     },
     "collapsed": true,
     "inputWidgets": {},
     "nuid": "958677ec-e124-4774-bbcd-2906fd692bbf",
     "showTitle": false,
     "tableResultSettingsMap": {},
     "title": ""
    }
   },
   "outputs": [],
   "source": [
    "combined_mn = mn_pop.join(mn_agi, ['STNAME', 'CTYNAME'], 'inner')\n",
    "combined_mn = combined_mn.drop(\"ESTIMATESBASE2020\")\n",
    "display(combined_mn)"
   ]
  },
  {
   "cell_type": "code",
   "execution_count": 0,
   "metadata": {
    "application/vnd.databricks.v1+cell": {
     "cellMetadata": {
      "byteLimit": 2048000,
      "rowLimit": 10000
     },
     "collapsed": true,
     "inputWidgets": {},
     "nuid": "7ac3d131-a6e9-4b41-a31e-ce6875f2cd23",
     "showTitle": false,
     "tableResultSettingsMap": {
      "0": {
       "dataGridStateBlob": "{\"version\":1,\"tableState\":{\"columnPinning\":{\"left\":[\"#row_number#\"],\"right\":[]},\"columnSizing\":{},\"columnVisibility\":{}},\"settings\":{\"columns\":{}},\"syncTimestamp\":1753987740743}",
       "filterBlob": null,
       "queryPlanFiltersBlob": null,
       "tableResultIndex": 0
      }
     },
     "title": ""
    }
   },
   "outputs": [],
   "source": [
    "from pyspark.sql.functions import round, col\n",
    "\n",
    "combined_mn = combined_mn.withColumn(\n",
    "    \"MN_AGI_per_capita_2022\",\n",
    "    round(col(\"AGI2022\") / col(\"POPESTIMATE2022\"), 2)\n",
    ")\n",
    "combined_mn = combined_mn.orderBy(col(\"MN_AGI_per_capita_2022\").desc())\n",
    "display(combined_mn)"
   ]
  },
  {
   "cell_type": "code",
   "execution_count": 0,
   "metadata": {
    "application/vnd.databricks.v1+cell": {
     "cellMetadata": {
      "byteLimit": 2048000,
      "rowLimit": 10000
     },
     "collapsed": true,
     "inputWidgets": {},
     "nuid": "cb7013c8-9a42-4e0b-9f9e-671da37d6d37",
     "showTitle": false,
     "tableResultSettingsMap": {
      "0": {
       "dataGridStateBlob": "{\"version\":1,\"tableState\":{\"columnPinning\":{\"left\":[\"#row_number#\"],\"right\":[]},\"columnSizing\":{},\"columnVisibility\":{}},\"settings\":{\"columns\":{}},\"syncTimestamp\":1753806519231}",
       "filterBlob": null,
       "queryPlanFiltersBlob": null,
       "tableResultIndex": 0
      }
     },
     "title": ""
    }
   },
   "outputs": [],
   "source": [
    "new_pop = stateless_df_pop.drop(\"ESTIMATESBASE2020\")\n",
    "new_pop = new_pop.filter(new_pop[\"STNAME\"] != \"Minnesota\")\n",
    "display(new_pop)"
   ]
  },
  {
   "cell_type": "code",
   "execution_count": 0,
   "metadata": {
    "application/vnd.databricks.v1+cell": {
     "cellMetadata": {
      "byteLimit": 2048000,
      "rowLimit": 10000
     },
     "collapsed": true,
     "inputWidgets": {},
     "nuid": "cabe27d4-5e8d-4516-8f58-34e166527418",
     "showTitle": false,
     "tableResultSettingsMap": {},
     "title": ""
    }
   },
   "outputs": [],
   "source": [
    "from pyspark.sql.functions import expr\n",
    "\n",
    "# Stack population columns into rows\n",
    "stack_expr = \"stack(5, '2020', POPESTIMATE2020, '2021', POPESTIMATE2021, '2022', POPESTIMATE2022, '2023', POPESTIMATE2023, '2024', POPESTIMATE2024) as (year, population)\"\n",
    "long_df = new_pop.select(\"STNAME\", \"CTYNAME\", expr(stack_expr))\n",
    "display(long_df)\n"
   ]
  },
  {
   "cell_type": "code",
   "execution_count": 0,
   "metadata": {
    "application/vnd.databricks.v1+cell": {
     "cellMetadata": {
      "byteLimit": 2048000,
      "rowLimit": 10000
     },
     "collapsed": true,
     "inputWidgets": {},
     "nuid": "fdd5af16-075f-49e9-9f3a-a3b90b19719d",
     "showTitle": false,
     "tableResultSettingsMap": {},
     "title": ""
    }
   },
   "outputs": [],
   "source": [
    "from pyspark.sql.functions import col\n",
    "\n",
    "# Normalize year to index (2020 = 0)\n",
    "long_df = long_df.withColumn(\"year_index\", col(\"year\").cast(\"int\") - 2020)\n",
    "long_df = long_df.withColumn(\"year_squared\", col(\"year_index\") ** 2)\n",
    "display(long_df)\n"
   ]
  },
  {
   "cell_type": "code",
   "execution_count": 0,
   "metadata": {
    "application/vnd.databricks.v1+cell": {
     "cellMetadata": {
      "byteLimit": 2048000,
      "rowLimit": 10000
     },
     "collapsed": true,
     "inputWidgets": {},
     "nuid": "e75e894b-c86b-4ea4-8b9e-2e120115df61",
     "showTitle": false,
     "tableResultSettingsMap": {},
     "title": ""
    }
   },
   "outputs": [],
   "source": [
    "from pyspark.sql.functions import pandas_udf\n",
    "from pyspark.sql.types import StructType, StructField, StringType, IntegerType, DoubleType\n",
    "from sklearn.linear_model import LinearRegression\n",
    "import pandas as pd\n",
    "\n",
    "# Define schema for output\n",
    "schema = StructType([\n",
    "    StructField(\"STNAME\", StringType()),\n",
    "    StructField(\"CTYNAME\", StringType()),\n",
    "    StructField(\"year_index\", IntegerType()),\n",
    "    StructField(\"predicted_population\", DoubleType())\n",
    "])\n",
    "\n",
    "from pyspark.sql.functions import PandasUDFType\n",
    "@pandas_udf(schema, functionType=PandasUDFType.GROUPED_MAP)\n",
    "\n",
    "def forecast_poly(pdf: pd.DataFrame) -> pd.DataFrame:\n",
    "    model = LinearRegression()\n",
    "    X = pdf[[\"year_index\", \"year_squared\"]]\n",
    "    y = pdf[\"population\"]\n",
    "    model.fit(X, y)\n",
    "\n",
    "    # Forecast for index 5–7 (years 2025–2027)\n",
    "    future = pd.DataFrame({\n",
    "        \"year_index\": [5, 6, 7]\n",
    "    })\n",
    "    future[\"year_squared\"] = future[\"year_index\"] ** 2\n",
    "    future[\"predicted_population\"] = model.predict(future[[\"year_index\", \"year_squared\"]])\n",
    "    future[\"STNAME\"] = pdf[\"STNAME\"].iloc[0]\n",
    "    future[\"CTYNAME\"] = pdf[\"CTYNAME\"].iloc[0]\n",
    "\n",
    "    return future[[\"STNAME\", \"CTYNAME\", \"year_index\", \"predicted_population\"]]\n",
    "\n",
    "# Apply grouped map UDF\n",
    "forecast_df = long_df.groupby([\"STNAME\", \"CTYNAME\"]).apply(forecast_poly)\n",
    "display(forecast_df)"
   ]
  },
  {
   "cell_type": "code",
   "execution_count": 0,
   "metadata": {
    "application/vnd.databricks.v1+cell": {
     "cellMetadata": {
      "byteLimit": 2048000,
      "rowLimit": 10000
     },
     "collapsed": true,
     "inputWidgets": {},
     "nuid": "b464fffd-28e9-4773-8e94-8b2abdcaadbc",
     "showTitle": false,
     "tableResultSettingsMap": {
      "0": {
       "dataGridStateBlob": "{\"version\":1,\"tableState\":{\"columnPinning\":{\"left\":[\"#row_number#\"],\"right\":[]},\"columnSizing\":{},\"columnVisibility\":{}},\"settings\":{\"columns\":{}},\"syncTimestamp\":1753817773397}",
       "filterBlob": null,
       "queryPlanFiltersBlob": null,
       "tableResultIndex": 0
      }
     },
     "title": ""
    }
   },
   "outputs": [],
   "source": [
    "from pyspark.sql.functions import col\n",
    "\n",
    "\n",
    "forecast_df = forecast_df.withColumn(\"year\", col(\"year_index\") + 2020)\n",
    "\n",
    "pivot_df = forecast_df.groupBy(\"STNAME\", \"CTYNAME\").pivot(\"year\").agg({\"predicted_population\": \"first\"})\n",
    "display(pivot_df)"
   ]
  },
  {
   "cell_type": "code",
   "execution_count": 0,
   "metadata": {
    "application/vnd.databricks.v1+cell": {
     "cellMetadata": {
      "byteLimit": 2048000,
      "rowLimit": 10000
     },
     "collapsed": true,
     "inputWidgets": {},
     "nuid": "72322ace-76db-48cd-ae79-0356ccc7b4dd",
     "showTitle": false,
     "tableResultSettingsMap": {},
     "title": ""
    }
   },
   "outputs": [],
   "source": [
    "sorted_df = pivot_df.orderBy([\"STNAME\", \"CTYNAME\"], ascending=True)\n",
    "display(sorted_df)"
   ]
  },
  {
   "cell_type": "code",
   "execution_count": 0,
   "metadata": {
    "application/vnd.databricks.v1+cell": {
     "cellMetadata": {
      "byteLimit": 2048000,
      "rowLimit": 10000
     },
     "collapsed": true,
     "inputWidgets": {},
     "nuid": "67060af3-35a9-4537-a81f-e35680fcce29",
     "showTitle": false,
     "tableResultSettingsMap": {
      "0": {
       "dataGridStateBlob": "{\"version\":1,\"tableState\":{\"columnPinning\":{\"left\":[\"#row_number#\"],\"right\":[]},\"columnSizing\":{},\"columnVisibility\":{}},\"settings\":{\"columns\":{}},\"syncTimestamp\":1753819085459}",
       "filterBlob": null,
       "queryPlanFiltersBlob": null,
       "tableResultIndex": 0
      }
     },
     "title": ""
    }
   },
   "outputs": [],
   "source": [
    "from pyspark.sql.functions import floor\n",
    "\n",
    "truncated_df = sorted_df.withColumn(\"2025\", floor(\"2025\")) \\\n",
    "                 .withColumn(\"2026\", floor(\"2026\")) \\\n",
    "                 .withColumn(\"2027\", floor(\"2027\"))\n",
    "\n",
    "display(truncated_df)"
   ]
  },
  {
   "cell_type": "code",
   "execution_count": 0,
   "metadata": {
    "application/vnd.databricks.v1+cell": {
     "cellMetadata": {
      "byteLimit": 2048000,
      "rowLimit": 10000
     },
     "collapsed": true,
     "inputWidgets": {},
     "nuid": "31a0427a-1123-46b1-b09f-7e2ff3320a42",
     "showTitle": false,
     "tableResultSettingsMap": {},
     "title": ""
    }
   },
   "outputs": [],
   "source": [
    "new_filtered_df = new_pop.join(truncated_df, ['STNAME', 'CTYNAME'], 'inner')\n",
    "display(new_filtered_df)\n"
   ]
  },
  {
   "cell_type": "code",
   "execution_count": 0,
   "metadata": {
    "application/vnd.databricks.v1+cell": {
     "cellMetadata": {
      "byteLimit": 2048000,
      "rowLimit": 10000
     },
     "inputWidgets": {},
     "nuid": "27fce321-735e-47f1-9a8a-0a34a287668f",
     "showTitle": false,
     "tableResultSettingsMap": {},
     "title": ""
    }
   },
   "outputs": [],
   "source": [
    "from pyspark.sql.functions import round, col\n",
    "\n",
    "\n",
    "new_filtered_df = new_filtered_df.withColumn(\n",
    "    \"Pop_Diff_2022_to_2027\",\n",
    "    round(col(\"2027\") - col(\"POPESTIMATE2022\"), 2)\n",
    ")\n",
    "\n",
    "\n",
    "new_filtered_df = new_filtered_df.withColumn(\n",
    "    \"Pop_PercChange_2022_to_2027\",\n",
    "    round((col(\"2027\") - col(\"POPESTIMATE2022\")) / col(\"POPESTIMATE2022\") * 100, 2)\n",
    ")\n",
    "display(new_filtered_df)\n"
   ]
  },
  {
   "cell_type": "code",
   "execution_count": 0,
   "metadata": {
    "application/vnd.databricks.v1+cell": {
     "cellMetadata": {
      "byteLimit": 2048000,
      "rowLimit": 10000
     },
     "collapsed": true,
     "inputWidgets": {},
     "nuid": "fdf6ff09-9c7a-41b8-8bf0-d043ae206acc",
     "showTitle": false,
     "tableResultSettingsMap": {
      "0": {
       "dataGridStateBlob": "{\"version\":1,\"tableState\":{\"columnPinning\":{\"left\":[\"#row_number#\"],\"right\":[]},\"columnSizing\":{},\"columnVisibility\":{}},\"settings\":{\"columns\":{}},\"syncTimestamp\":1753991538397}",
       "filterBlob": null,
       "queryPlanFiltersBlob": null,
       "tableResultIndex": 0
      }
     },
     "title": ""
    }
   },
   "outputs": [],
   "source": [
    "combined_df = new_filtered_df.join(renamed_df, ['STNAME', 'CTYNAME'], 'inner')\n",
    "display(combined_df)"
   ]
  },
  {
   "cell_type": "code",
   "execution_count": 0,
   "metadata": {
    "application/vnd.databricks.v1+cell": {
     "cellMetadata": {
      "byteLimit": 2048000,
      "rowLimit": 10000
     },
     "collapsed": true,
     "inputWidgets": {},
     "nuid": "7c2a17dd-fa89-4f59-8a65-aefda8b8bc59",
     "showTitle": false,
     "tableResultSettingsMap": {},
     "title": ""
    }
   },
   "outputs": [],
   "source": [
    "final_df = combined_df.drop(\"2025\", \"2026\")\n",
    "final_df = final_df.withColumnRenamed(\"2027\", \"PREDICTEDPOP2027\")\n",
    "display(final_df)"
   ]
  },
  {
   "cell_type": "code",
   "execution_count": 0,
   "metadata": {
    "application/vnd.databricks.v1+cell": {
     "cellMetadata": {
      "byteLimit": 2048000,
      "rowLimit": 10000
     },
     "collapsed": true,
     "inputWidgets": {},
     "nuid": "30cf250d-68f1-413a-9f0b-27b296c08f09",
     "showTitle": false,
     "tableResultSettingsMap": {
      "0": {
       "dataGridStateBlob": "{\"version\":1,\"tableState\":{\"columnPinning\":{\"left\":[\"#row_number#\"],\"right\":[]},\"columnSizing\":{},\"columnVisibility\":{}},\"settings\":{\"columns\":{}},\"syncTimestamp\":1753985449948}",
       "filterBlob": null,
       "queryPlanFiltersBlob": null,
       "tableResultIndex": 0
      }
     },
     "title": ""
    }
   },
   "outputs": [],
   "source": [
    "from pyspark.sql.functions import round, col\n",
    "\n",
    "final_df = final_df.withColumn(\n",
    "    \"AGI_per_capita_2027\",\n",
    "    round(col(\"Predicted_AGI2027\") / col(\"PREDICTEDPOP2027\"), 2)\n",
    ")\n",
    "display(final_df)"
   ]
  },
  {
   "cell_type": "code",
   "execution_count": 0,
   "metadata": {
    "application/vnd.databricks.v1+cell": {
     "cellMetadata": {
      "byteLimit": 2048000,
      "rowLimit": 10000
     },
     "inputWidgets": {},
     "nuid": "9525685e-51f2-466c-8428-9f2e4a4b7bf8",
     "showTitle": false,
     "tableResultSettingsMap": {},
     "title": ""
    }
   },
   "outputs": [],
   "source": [
    "from pyspark.sql.functions import concat_ws\n",
    "\n",
    "final_df = final_df.withColumn(\"Location\", concat_ws(\", \", col(\"CTYNAME\"), col(\"STNAME\")))\n"
   ]
  },
  {
   "cell_type": "code",
   "execution_count": 0,
   "metadata": {
    "application/vnd.databricks.v1+cell": {
     "cellMetadata": {
      "byteLimit": 2048000,
      "rowLimit": 10000
     },
     "inputWidgets": {},
     "nuid": "302ca089-aacb-43d4-a15d-c46282dcd563",
     "showTitle": false,
     "tableResultSettingsMap": {},
     "title": ""
    }
   },
   "outputs": [],
   "source": [
    "final_df.write.format(\"delta\").mode(\"overwrite\").saveAsTable(\"County_Population_AGI\")"
   ]
  },
  {
   "cell_type": "code",
   "execution_count": 0,
   "metadata": {
    "application/vnd.databricks.v1+cell": {
     "cellMetadata": {
      "byteLimit": 2048000,
      "rowLimit": 10000
     },
     "inputWidgets": {},
     "nuid": "7145df27-7149-4bca-8c16-f3750b6677bc",
     "showTitle": false,
     "tableResultSettingsMap": {},
     "title": ""
    }
   },
   "outputs": [],
   "source": [
    "from pyspark.sql.functions import concat_ws\n",
    "\n",
    "combined_mn = combined_mn.withColumn(\"Location\", concat_ws(\", \", col(\"CTYNAME\"), col(\"STNAME\")))"
   ]
  },
  {
   "cell_type": "code",
   "execution_count": 0,
   "metadata": {
    "application/vnd.databricks.v1+cell": {
     "cellMetadata": {
      "byteLimit": 2048000,
      "rowLimit": 10000
     },
     "inputWidgets": {},
     "nuid": "3382c54a-98cb-4d11-8ff6-67f7904ed60a",
     "showTitle": false,
     "tableResultSettingsMap": {},
     "title": ""
    }
   },
   "outputs": [],
   "source": [
    "combined_mn.write.format(\"delta\").mode(\"overwrite\").saveAsTable(\"MN_County_Population_AGI\")"
   ]
  }
 ],
 "metadata": {
  "application/vnd.databricks.v1+notebook": {
   "computePreferences": null,
   "dashboards": [],
   "environmentMetadata": {
    "base_environment": "",
    "environment_version": "2"
   },
   "inputWidgetPreferences": null,
   "language": "python",
   "notebookMetadata": {
    "mostRecentlyExecutedCommandWithImplicitDF": {
     "commandId": 8137451694702916,
     "dataframes": [
      "_sqldf"
     ]
    },
    "pythonIndentUnit": 4
   },
   "notebookName": "Data Ingestion and tranformation",
   "widgets": {}
  },
  "language_info": {
   "name": "python"
  }
 },
 "nbformat": 4,
 "nbformat_minor": 0
}
