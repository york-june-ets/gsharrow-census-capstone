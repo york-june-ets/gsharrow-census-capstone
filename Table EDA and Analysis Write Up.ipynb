{
 "cells": [
  {
   "cell_type": "code",
   "execution_count": 0,
   "metadata": {
    "application/vnd.databricks.v1+cell": {
     "cellMetadata": {
      "byteLimit": 2048000,
      "rowLimit": 10000
     },
     "inputWidgets": {},
     "nuid": "a47e1037-3ef7-4164-b592-efe47cf435b6",
     "showTitle": false,
     "tableResultSettingsMap": {
      "0": {
       "dataGridStateBlob": "{\"version\":1,\"tableState\":{\"columnPinning\":{\"left\":[\"#row_number#\"],\"right\":[]},\"columnSizing\":{},\"columnVisibility\":{}},\"settings\":{\"columns\":{}},\"syncTimestamp\":1754252578810}",
       "filterBlob": null,
       "queryPlanFiltersBlob": null,
       "tableResultIndex": 0
      }
     },
     "title": ""
    }
   },
   "outputs": [],
   "source": [
    "SELECT * FROM ets_thriventcohort.default.county_forecast_combined\n"
   ]
  },
  {
   "cell_type": "code",
   "execution_count": 0,
   "metadata": {
    "application/vnd.databricks.v1+cell": {
     "cellMetadata": {
      "byteLimit": 2048000,
      "rowLimit": 10000
     },
     "inputWidgets": {},
     "nuid": "337fa19c-b260-4b95-8928-3cd9212fed42",
     "showTitle": false,
     "tableResultSettingsMap": {
      "0": {
       "dataGridStateBlob": "{\"version\":1,\"tableState\":{\"columnPinning\":{\"left\":[\"#row_number#\"],\"right\":[]},\"columnSizing\":{},\"columnVisibility\":{}},\"settings\":{\"columns\":{}},\"syncTimestamp\":1753995227631}",
       "filterBlob": null,
       "queryPlanFiltersBlob": null,
       "tableResultIndex": 0
      }
     },
     "title": ""
    }
   },
   "outputs": [],
   "source": [
    "SELECT *\n",
    "FROM ets_thriventcohort.default.county_forecast_combined\n",
    "ORDER BY AGI_change_raw DESC\n",
    "LIMIT 10;"
   ]
  },
  {
   "cell_type": "code",
   "execution_count": 0,
   "metadata": {
    "application/vnd.databricks.v1+cell": {
     "cellMetadata": {
      "byteLimit": 2048000,
      "rowLimit": 10000
     },
     "inputWidgets": {},
     "nuid": "4fad035b-899b-464d-8475-9107c9077964",
     "showTitle": false,
     "tableResultSettingsMap": {
      "0": {
       "dataGridStateBlob": "{\"version\":1,\"tableState\":{\"columnPinning\":{\"left\":[\"#row_number#\"],\"right\":[]},\"columnSizing\":{},\"columnVisibility\":{}},\"settings\":{\"columns\":{}},\"syncTimestamp\":1754282700731}",
       "filterBlob": null,
       "queryPlanFiltersBlob": null,
       "tableResultIndex": 0
      }
     },
     "title": ""
    }
   },
   "outputs": [],
   "source": [
    "SELECT *\n",
    "FROM ets_thriventcohort.default.county_forecast_combined\n",
    "WHERE LOWER(location) LIKE '%minnesota%'\n",
    "ORDER BY pop_2027_predicted DESC\n"
   ]
  },
  {
   "cell_type": "code",
   "execution_count": 0,
   "metadata": {
    "application/vnd.databricks.v1+cell": {
     "cellMetadata": {
      "byteLimit": 2048000,
      "rowLimit": 10000
     },
     "inputWidgets": {},
     "nuid": "d6220786-6267-4cb3-9dec-18e806c5322a",
     "showTitle": false,
     "tableResultSettingsMap": {
      "0": {
       "dataGridStateBlob": "{\"version\":1,\"tableState\":{\"columnPinning\":{\"left\":[\"#row_number#\"],\"right\":[]},\"columnSizing\":{},\"columnVisibility\":{}},\"settings\":{\"columns\":{}},\"syncTimestamp\":1755027177760}",
       "filterBlob": null,
       "queryPlanFiltersBlob": null,
       "tableResultIndex": 0
      }
     },
     "title": ""
    }
   },
   "outputs": [],
   "source": [
    "WITH growth AS (\n",
    "  SELECT\n",
    "    Location,\n",
    "    AGI_2027_predicted,\n",
    "    pop_2027_predicted,\n",
    "    AGI_per_capita_2027,\n",
    "    pop_change_raw AS Pop_Growth,\n",
    "    pop_change_pct AS Pop_Growth_Perc,\n",
    "    AGI_change_raw AS AGI_Growth,\n",
    "    AGI_change_pct AS AGI_Growth_Perc\n",
    "  FROM ets_thriventcohort.default.county_forecast_combined\n",
    "  WHERE pop_change_raw > 0 AND AGI_change_raw > 0 and pop_2027_predicted > 250000 and AGI_2027_predicted > 20000000 and AGI_per_capita_2027 > 50 AND Location NOT LIKE '%Minnesota%'\n",
    "),\n",
    "\n",
    "ranked AS (\n",
    "  SELECT *,\n",
    "    RANK() OVER (ORDER BY Pop_Growth_Perc DESC) AS Pop_Rank,\n",
    "    RANK() OVER (ORDER BY AGI_Growth_Perc DESC) AS AGI_Rank\n",
    "  FROM growth\n",
    ")\n",
    "\n",
    "SELECT *,\n",
    "  (Pop_Rank + AGI_Rank) AS Composite_Score\n",
    "FROM ranked\n",
    "ORDER BY Composite_Score ASC\n",
    "limit 10;\n"
   ]
  },
  {
   "cell_type": "markdown",
   "metadata": {
    "application/vnd.databricks.v1+cell": {
     "cellMetadata": {},
     "inputWidgets": {},
     "nuid": "8d1e3c45-6914-4408-8fcb-83ec379a3db3",
     "showTitle": false,
     "tableResultSettingsMap": {},
     "title": ""
    }
   },
   "source": [
    "- ### Summary of Analysis\n",
    "\n",
    "- The primary focus of this analysis was identifying optimal counties for future bank branch expansion in 2027 based on two key indicators: population size and income level. Also due to covid having a very large impact on the United States in both changes in population and the economy I decided to only use data from 2020 and after since I beleive the predictions would be a bit more accurate. Because current AGI (Adjusted Gross Income) data only extends to 2022 and population data to 2024, the forcasting was done for 2027 using data from every available year for each category however the change over time is 2022 to 2027 for both population and AGI. Specifically:\n",
    "  - Linear regression was used to predict AGI.\n",
    "  - Polynomial regression was used to estimate population.\n",
    "- Both absolute and percentage growth between 2022 and 2027 were calculated to assess the trajectory of each county. \n",
    "\n",
    "- ### Minnesota as a Baseline Filter\n",
    "- Since the objective is to find out-of-state locations, Minnesota counties were excluded from the final ranking table. However, a separate table was created for select MN counties (Ramsey, Hennepin, Anoka, Washington, and Dakota) using the predicted growth for 2027. These counties served as a performance benchmark: any location underperforming compared to these regions was filtered out.\n",
    "- To align with Minnesota’s economic profile, the following thresholds were applied:\n",
    "  - Population must exceed 250,000\n",
    "  - AGI must exceed $20,000,000\n",
    "  - AGI per capita must exceed $50 \n",
    "- ### Trends and Rankings\n",
    "- During initial exploration, counties with larger baseline values tended to show greater absolute growth in both metrics. Meanwhile, counties with lower starting points often showed inflated percentage changes due to smaller denominators.\n",
    "- To address this, the model emphasized percentage-based growth, with Minnesota’s benchmarks acting as a guardrail to eliminate outliers with misleading gains.\n",
    "- Each remaining county was ranked by:\n",
    "  - Percent change in population\n",
    "  - Percent change in AGI\n",
    "- A composite score was calculated by summing both ranks. The lower the composite score, the more favorable the county — with a score of 2 representing top performance in both categories.\n",
    "- While the objective was to identify the top three locations, looking at the top ten all but two of the of the counties were in Florida or Texas showing a positive trend for counties in these states."
   ]
  }
 ],
 "metadata": {
  "application/vnd.databricks.v1+notebook": {
   "computePreferences": null,
   "dashboards": [],
   "environmentMetadata": {
    "base_environment": "",
    "environment_version": "2"
   },
   "inputWidgetPreferences": null,
   "language": "sql",
   "notebookMetadata": {
    "pythonIndentUnit": 4
   },
   "notebookName": "Table EDA and Analysis Write Up",
   "widgets": {}
  },
  "language_info": {
   "name": "sql"
  }
 },
 "nbformat": 4,
 "nbformat_minor": 0
}
