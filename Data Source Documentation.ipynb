{
 "cells": [
  {
   "cell_type": "markdown",
   "metadata": {
    "application/vnd.databricks.v1+cell": {
     "cellMetadata": {},
     "inputWidgets": {},
     "nuid": "9991345e-fe7d-484b-b053-b5f7d1e869a9",
     "showTitle": false,
     "tableResultSettingsMap": {},
     "title": ""
    }
   },
   "source": [
    "- ###  Source 1\n",
    "- ### IRS data from 2020-2022 on county populations \n",
    "\n",
    "- https://www.irs.gov/statistics/soi-tax-stats-county-data\n",
    "\n",
    "- These datasets provide Adjusted Gross Income (AGI) figures for every county across the United States. AGI reflects the income levels of local populations, making it a critical factor when evaluating where to establish new bank branches. Since the goal is to identify regions poised for economic growth in the coming years, this data offers valuable insight into which areas are likely to experience rising income trends."
   ]
  },
  {
   "cell_type": "markdown",
   "metadata": {
    "application/vnd.databricks.v1+cell": {
     "cellMetadata": {},
     "inputWidgets": {},
     "nuid": "7cca7d6d-f0a4-45a3-9224-fdd41916830d",
     "showTitle": false,
     "tableResultSettingsMap": {},
     "title": ""
    }
   },
   "source": [
    "- ## Source 2 \n",
    "- ###Census data from 2020-2024 on county populations\n",
    "\n",
    "- https://www.census.gov/data/datasets/time-series/demo/popest/2020s-counties-total.html\n",
    "\n",
    "- https://www2.census.gov/programs-surveys/popest/technical-documentation/file-layouts/2020-2024/CO-EST2024-ALLDATA.pdf\n",
    "\n",
    "- This dataset includes county-level Census population data across the United States. It is utilized to calculate population changes between 2024 and 2027, helping identify counties with notable growth. This information is essential when evaluating potential bank locations, as increasing population trends can indicate a rising demand for financial services in those areas."
   ]
  }
 ],
 "metadata": {
  "application/vnd.databricks.v1+notebook": {
   "computePreferences": null,
   "dashboards": [],
   "environmentMetadata": {
    "base_environment": "",
    "environment_version": "2"
   },
   "inputWidgetPreferences": null,
   "language": "python",
   "notebookMetadata": {
    "pythonIndentUnit": 4
   },
   "notebookName": "Data Source Documentation",
   "widgets": {}
  },
  "language_info": {
   "name": "python"
  }
 },
 "nbformat": 4,
 "nbformat_minor": 0
}
